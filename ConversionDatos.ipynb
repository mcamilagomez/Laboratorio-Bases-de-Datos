{
 "cells": [
  {
   "cell_type": "markdown",
   "metadata": {},
   "source": [
    "# Propósito del código:\n",
    "Tomando el archivo de movies en el dataset original, utilizamos la información que está ahí para generar las instrucciones para llenar la base de datos, esto porque varios de los titulos tienen comas(\",\") lo cual hace que la lectura del archivo csv sea incorrecta, además de que quitamos los apostrofes(\"'\") ya que estos generaban errores con los varchar de sql\n",
    "\n",
    "## Nota:\n",
    "No incluimos el csv de movies para descargar ya que no es necesario, gracias a que el resultado de esta conversión se encuentra en el archivo Movie DB Install.sql"
   ]
  },
  {
   "cell_type": "code",
   "execution_count": null,
   "metadata": {},
   "outputs": [],
   "source": [
    "file1 = open(\"/content/MoviesInfoInstructions.txt\", \"w\")\n",
    "\n",
    "\n",
    "with open(\"/content/movies.csv\") as archivo:\n",
    "  archivo.readline()\n",
    "  for line in archivo:\n",
    "    contenido = line.split(\",\")\n",
    "    title = \"\"\n",
    "    for elem in contenido[1:-1]:\n",
    "      title += elem\n",
    "    if \"'\" in title:\n",
    "      title = title.replace(\"'\", \"\")\n",
    "    instruccion = f\"INSERT MoviesInfo (MovieID, Title) VALUES ({contenido[0]}, '{title}')\\n\"\n",
    "    file1.writelines(instruccion)"
   ]
  },
  {
   "cell_type": "code",
   "execution_count": null,
   "metadata": {},
   "outputs": [],
   "source": [
    "file1 = open(\"/content/MovieYearInstructions.txt\", \"w\")\n",
    "\n",
    "\n",
    "with open(\"/content/movies.csv\") as archivo:\n",
    "  archivo.readline()\n",
    "  for line in archivo:\n",
    "    contenido = line.split(\",\")\n",
    "    title = \"\"\n",
    "    for elem in contenido[1:-1]:\n",
    "      title += elem\n",
    "    try:\n",
    "      year = int(title.split(\"(\")[-1].split(\")\")[0])\n",
    "\n",
    "    except:\n",
    "      year = \"NULL\"\n",
    "\n",
    "    instruccion = f\"INSERT MovieYear (MovieID, ReleaseYear) VALUES ({contenido[0]},{year})\\n\"\n",
    "    file1.writelines(instruccion)"
   ]
  }
 ],
 "metadata": {
  "language_info": {
   "name": "python"
  }
 },
 "nbformat": 4,
 "nbformat_minor": 2
}
